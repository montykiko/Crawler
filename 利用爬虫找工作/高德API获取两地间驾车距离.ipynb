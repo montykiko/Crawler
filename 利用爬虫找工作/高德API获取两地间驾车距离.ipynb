{
 "cells": [
  {
   "cell_type": "markdown",
   "metadata": {},
   "source": [
    "* [地理/逆地理编码](https://lbs.amap.com/api/webservice/guide/api/georegeo)\n",
    "* [行政区域查询](https://lbs.amap.com/api/webservice/guide/api/district)\n",
    "* [路径规划](https://lbs.amap.com/api/webservice/guide/api/direction)"
   ]
  },
  {
   "cell_type": "code",
   "execution_count": 27,
   "metadata": {
    "ExecuteTime": {
     "end_time": "2018-07-31T06:02:41.394021Z",
     "start_time": "2018-07-31T06:01:52.798200Z"
    }
   },
   "outputs": [],
   "source": [
    "import requests\n",
    "import json\n",
    "import pandas as pd\n",
    "from pandas import DataFrame\n",
    "from datetime import datetime\n",
    "\n",
    "def get_coord(address):   \n",
    "    '''解析地址，获取经纬度'''\n",
    "    result = {}\n",
    "    url = 'https://restapi.amap.com/v3/geocode/geo?parameters'    \n",
    "    params = {'key':'66ba580836eb10be0deed54e77633cf5',                  \n",
    "              'address': address,                        \n",
    "              'city': 'hangzhou',\n",
    "             }         \n",
    "    try:\n",
    "        res = requests.get(url,params)        \n",
    "        jd = json.loads(res.text)\n",
    "        coord = jd['geocodes'][0]['location']\n",
    "        return coord    \n",
    "    except:\n",
    "        print(\"未获取到经纬度！\")\n",
    "\n",
    "def get_driving_distance(company_add):\n",
    "    '''获取家和公司的距离'''\n",
    "    home_add = \"杭州-余杭区-富力十号院\"\n",
    "    home_coord = get_coord(home_add)\n",
    "    \n",
    "    company_coord = get_coord(company_add)\n",
    "    url = 'https://restapi.amap.com/v3/direction/driving?parameters'            \n",
    "    params = {'key':'66ba580836eb10be0deed54e77633cf5', \n",
    "              'origin': home_coord,\n",
    "              'destination': company_coord,      \n",
    "            }\n",
    "    res = requests.get(url, params)\n",
    "    jd = json.loads(res.text)\n",
    "    distance = jd['route']['paths'][0]['distance']\n",
    "    return distance\n",
    "\n",
    "def main():\n",
    "    df = pd.read_excel('D:/liepin/liepin_20180802.xlsx')\n",
    "    address = df['公司地址'].tolist()\n",
    "    dct = {}\n",
    "    for add in address:\n",
    "        distance = get_driving_distance(add)\n",
    "        dct[add] = distance\n",
    "    data = pd.DataFrame.from_dict(dct,orient='index')\n",
    "    data = data.reset_index()\n",
    "    data.columns =['公司地址','离家驾车距离']\n",
    "    data['离家驾车距离'] = data['离家驾车距离'].astype('int')\n",
    "    new_df = df.merge(data,on='公司地址',how='left')\n",
    "    new_df.to_excel('D:/lagou/lagou_with_distance_{}.xlsx'.format(datetime.now().strftime('%Y%m%d')),index=False,encoding='gbk')\n",
    "\n",
    "if __name__ == '__main__':\n",
    "    main()"
   ]
  }
 ],
 "metadata": {
  "kernelspec": {
   "display_name": "Python 3",
   "language": "python",
   "name": "python3"
  },
  "language_info": {
   "codemirror_mode": {
    "name": "ipython",
    "version": 3
   },
   "file_extension": ".py",
   "mimetype": "text/x-python",
   "name": "python",
   "nbconvert_exporter": "python",
   "pygments_lexer": "ipython3",
   "version": "3.6.4"
  },
  "toc": {
   "nav_menu": {},
   "number_sections": true,
   "sideBar": true,
   "skip_h1_title": false,
   "title_cell": "Table of Contents",
   "title_sidebar": "Contents",
   "toc_cell": false,
   "toc_position": {},
   "toc_section_display": true,
   "toc_window_display": false
  }
 },
 "nbformat": 4,
 "nbformat_minor": 2
}
